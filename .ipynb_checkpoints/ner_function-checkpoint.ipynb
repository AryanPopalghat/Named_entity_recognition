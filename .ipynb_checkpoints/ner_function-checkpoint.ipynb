{
 "cells": [
  {
   "cell_type": "code",
   "execution_count": null,
   "id": "7f1ae989",
   "metadata": {},
   "outputs": [],
   "source": [
    "from transformers import pipeline\n",
    "from transformers import AutoModelForTokenClassification, BertTokenizerFast\n",
    "\n",
    "model_fine_tuned = AutoModelForTokenClassification.from_pretrained(\"ner_model/config.json\")\n",
    "tokenizer = BertTokenizerFast.from_pretrained(\"tokenizer/config.json\")\n",
    "\n",
    "nlp = pipeline(\"ner\", model=model_fine_tuned, tokenizer=tokenizer)\n",
    "\n",
    "def named_entity_recognition(text_input):\n",
    "    ner_results = nlp(text_input)\n",
    "    return ner_results"
   ]
  }
 ],
 "metadata": {
  "kernelspec": {
   "display_name": "Python 3 (ipykernel)",
   "language": "python",
   "name": "python3"
  },
  "language_info": {
   "codemirror_mode": {
    "name": "ipython",
    "version": 3
   },
   "file_extension": ".py",
   "mimetype": "text/x-python",
   "name": "python",
   "nbconvert_exporter": "python",
   "pygments_lexer": "ipython3",
   "version": "3.11.1"
  }
 },
 "nbformat": 4,
 "nbformat_minor": 5
}
